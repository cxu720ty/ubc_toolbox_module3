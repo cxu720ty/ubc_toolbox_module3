{
 "cells": [
  {
   "cell_type": "markdown",
   "id": "6eb22942-371d-4960-aee3-91945c0e7997",
   "metadata": {},
   "source": [
    "### test version control"
   ]
  },
  {
   "cell_type": "markdown",
   "id": "dfcd3be8-3bab-412e-bfeb-528e5cb488c6",
   "metadata": {},
   "source": [
    "## test 2 1234445555666666"
   ]
  },
  {
   "cell_type": "code",
   "execution_count": null,
   "id": "75350f79-d05b-41d0-b0d8-020497732522",
   "metadata": {},
   "outputs": [],
   "source": []
  }
 ],
 "metadata": {
  "kernelspec": {
   "display_name": "Python 3 (ipykernel)",
   "language": "python",
   "name": "python3"
  },
  "language_info": {
   "codemirror_mode": {
    "name": "ipython",
    "version": 3
   },
   "file_extension": ".py",
   "mimetype": "text/x-python",
   "name": "python",
   "nbconvert_exporter": "python",
   "pygments_lexer": "ipython3",
   "version": "3.9.13"
  }
 },
 "nbformat": 4,
 "nbformat_minor": 5
}
